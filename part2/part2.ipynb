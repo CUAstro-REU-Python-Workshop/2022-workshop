{
  "cells": [
    {
      "cell_type": "markdown",
      "metadata": {
        "id": "2GrwEWoIbBNV"
      },
      "source": [
        "# Hello Everybody!\n",
        "\n",
        "Welcome to the REU Programming Workshop. The rough agenda will be:\n",
        "\n",
        "- Brief overview of what Anaconda is (further help & discussion after the workshop will be available).\n",
        "- Introduction to Python and Jupyter\n",
        "  - We will use Google Colab for simplicity\n",
        "- Basic use of Python in Jupyter\n",
        "- Introduction to NumPy"
      ]
    },
    {
      "cell_type": "markdown",
      "metadata": {
        "id": "e---zLkecMJC"
      },
      "source": [
        "# Anaconda\n",
        "\n",
        "Anaconda is a mostly platform-independent software management system that makes your life a lot easier! **Highly recommended**.\n",
        "\n",
        "- https://www.anaconda.com\n",
        "- Most standardized way to install Python, tools etc. on Windows and Mac OS, very large community!\n",
        "- Bundles almost all useful Python packages out of the box!"
      ]
    },
    {
      "cell_type": "markdown",
      "metadata": {
        "id": "I7tNbAVFdDaJ"
      },
      "source": [
        "# Python\n",
        "\n",
        "Python is the most popular programming language in the scientific community except for very high-performance work. Most of this workshop will be targeted towards introducing the common tools available to Python users.\n",
        "\n",
        "- If you install Anaconda, you will have Python!\n",
        "\n"
      ]
    },
    {
      "cell_type": "markdown",
      "metadata": {
        "id": "vLK0uTsCdvVo"
      },
      "source": [
        "# Jupyter\n",
        "\n",
        "Jupyter is a convenient, \"interactive\" interface built on top of the Python programming language. It lets you execute little pieces of code at a time, and it lets you mix text and code to create a self-contained writeup.\n",
        "\n",
        "- We will mostly use https://colab.research.google.com during this workshop, a convenient web-based tool that includes most of Jupyter's feature set.\n",
        "- Jupyter supports using \"Markdown\", a very popular text annotation convention, to format text (e.g. **bold**, *italic*). My bookmarked cheat sheet is https://github.com/adam-p/markdown-here/wiki/Markdown-Cheatsheet"
      ]
    },
    {
      "cell_type": "markdown",
      "metadata": {
        "id": "b2PZMEAuel4x"
      },
      "source": [
        "# **CODING TIME**\n",
        "\n",
        "\n",
        "\n",
        "---\n",
        "\n"
      ]
    },
    {
      "cell_type": "markdown",
      "metadata": {
        "id": "E7VAVVqlepu9"
      },
      "source": [
        "Below, we will run our first line of code in Jupyter."
      ]
    },
    {
      "cell_type": "code",
      "execution_count": null,
      "metadata": {
        "colab": {
          "base_uri": "https://localhost:8080/"
        },
        "id": "DgPNjfMZrLKW",
        "outputId": "238b3395-b345-46e9-8d3c-083f500b4880"
      },
      "outputs": [
        {
          "name": "stdout",
          "output_type": "stream",
          "text": [
            "Hello World\n"
          ]
        }
      ],
      "source": [
        "# this is a comment\n",
        "# Click this cell, and press CTRL + Enter to execute this cell.\n",
        "print(\"Hello World\")"
      ]
    },
    {
      "cell_type": "markdown",
      "metadata": {
        "id": "FP_f7atqe0aN"
      },
      "source": [
        "## Universal Code State (\"Runtime\")\n",
        "\n",
        "Jupyter saves code state across cells in a Python \"runtime\"."
      ]
    },
    {
      "cell_type": "code",
      "execution_count": null,
      "metadata": {
        "id": "mozd3Wd_ewZU"
      },
      "outputs": [],
      "source": [
        "# this is one cell\n",
        "a = 5"
      ]
    },
    {
      "cell_type": "code",
      "execution_count": null,
      "metadata": {
        "colab": {
          "base_uri": "https://localhost:8080/"
        },
        "id": "MCc-7tk-e49f",
        "outputId": "b998dddf-fbb6-4154-9621-b29ddf768c56"
      },
      "outputs": [
        {
          "name": "stdout",
          "output_type": "stream",
          "text": [
            "5\n"
          ]
        }
      ],
      "source": [
        "# this is another cell\n",
        "# make sure to run (CTRL+Enter) the previous cell before this one!\n",
        "print(a)"
      ]
    },
    {
      "cell_type": "markdown",
      "metadata": {
        "id": "nfloR9QdfOBt"
      },
      "source": [
        "## Importing Packages\n",
        "\n",
        "Jupyter allows you to \"import\" packages to extend the core Python functionality. Here, we will use Numpy to compute the sine of 5."
      ]
    },
    {
      "cell_type": "code",
      "execution_count": null,
      "metadata": {
        "colab": {
          "base_uri": "https://localhost:8080/"
        },
        "id": "vSyCciuCfNoQ",
        "outputId": "171910e9-8b37-417d-99b9-21e6b12508cb"
      },
      "outputs": [
        {
          "name": "stdout",
          "output_type": "stream",
          "text": [
            "The sin of 5 radians is -0.9589242746631385\n"
          ]
        }
      ],
      "source": [
        "import numpy as np\n",
        "print(\"The sin of 5 radians is\", np.sin(5))"
      ]
    },
    {
      "cell_type": "markdown",
      "metadata": {
        "id": "mrO5KNzKfeb9"
      },
      "source": [
        "If you have already imported a package, you can view the description (\"docstring\") of the function when running the function\n",
        "\n",
        "- In Jupyter, use `Shift + Tab` to do this"
      ]
    },
    {
      "cell_type": "code",
      "execution_count": null,
      "metadata": {
        "id": "ashnUZpnfroB"
      },
      "outputs": [],
      "source": [
        "# type np.sin() and see the popup!\n",
        "# np.cos()"
      ]
    },
    {
      "cell_type": "markdown",
      "metadata": {
        "id": "aQVF_3zBnrHo"
      },
      "source": [
        "Can also view documentation using the built in `help` command"
      ]
    },
    {
      "cell_type": "code",
      "execution_count": null,
      "metadata": {
        "colab": {
          "base_uri": "https://localhost:8080/"
        },
        "id": "VbCG94yMnpQg",
        "outputId": "7a07919a-b694-41e7-eb8d-cd39dddadb6a"
      },
      "outputs": [
        {
          "name": "stdout",
          "output_type": "stream",
          "text": [
            "Help on built-in function array in module numpy:\n",
            "\n",
            "array(...)\n",
            "    array(object, dtype=None, *, copy=True, order='K', subok=False, ndmin=0)\n",
            "    \n",
            "    Create an array.\n",
            "    \n",
            "    Parameters\n",
            "    ----------\n",
            "    object : array_like\n",
            "        An array, any object exposing the array interface, an object whose\n",
            "        __array__ method returns an array, or any (nested) sequence.\n",
            "    dtype : data-type, optional\n",
            "        The desired data-type for the array.  If not given, then the type will\n",
            "        be determined as the minimum type required to hold the objects in the\n",
            "        sequence.\n",
            "    copy : bool, optional\n",
            "        If true (default), then the object is copied.  Otherwise, a copy will\n",
            "        only be made if __array__ returns a copy, if obj is a nested sequence,\n",
            "        or if a copy is needed to satisfy any of the other requirements\n",
            "        (`dtype`, `order`, etc.).\n",
            "    order : {'K', 'A', 'C', 'F'}, optional\n",
            "        Specify the memory layout of the array. If object is not an array, the\n",
            "        newly created array will be in C order (row major) unless 'F' is\n",
            "        specified, in which case it will be in Fortran order (column major).\n",
            "        If object is an array the following holds.\n",
            "    \n",
            "        ===== ========= ===================================================\n",
            "        order  no copy                     copy=True\n",
            "        ===== ========= ===================================================\n",
            "        'K'   unchanged F & C order preserved, otherwise most similar order\n",
            "        'A'   unchanged F order if input is F and not C, otherwise C order\n",
            "        'C'   C order   C order\n",
            "        'F'   F order   F order\n",
            "        ===== ========= ===================================================\n",
            "    \n",
            "        When ``copy=False`` and a copy is made for other reasons, the result is\n",
            "        the same as if ``copy=True``, with some exceptions for `A`, see the\n",
            "        Notes section. The default order is 'K'.\n",
            "    subok : bool, optional\n",
            "        If True, then sub-classes will be passed-through, otherwise\n",
            "        the returned array will be forced to be a base-class array (default).\n",
            "    ndmin : int, optional\n",
            "        Specifies the minimum number of dimensions that the resulting\n",
            "        array should have.  Ones will be pre-pended to the shape as\n",
            "        needed to meet this requirement.\n",
            "    \n",
            "    Returns\n",
            "    -------\n",
            "    out : ndarray\n",
            "        An array object satisfying the specified requirements.\n",
            "    \n",
            "    See Also\n",
            "    --------\n",
            "    empty_like : Return an empty array with shape and type of input.\n",
            "    ones_like : Return an array of ones with shape and type of input.\n",
            "    zeros_like : Return an array of zeros with shape and type of input.\n",
            "    full_like : Return a new array with shape of input filled with value.\n",
            "    empty : Return a new uninitialized array.\n",
            "    ones : Return a new array setting values to one.\n",
            "    zeros : Return a new array setting values to zero.\n",
            "    full : Return a new array of given shape filled with value.\n",
            "    \n",
            "    \n",
            "    Notes\n",
            "    -----\n",
            "    When order is 'A' and `object` is an array in neither 'C' nor 'F' order,\n",
            "    and a copy is forced by a change in dtype, then the order of the result is\n",
            "    not necessarily 'C' as expected. This is likely a bug.\n",
            "    \n",
            "    Examples\n",
            "    --------\n",
            "    >>> np.array([1, 2, 3])\n",
            "    array([1, 2, 3])\n",
            "    \n",
            "    Upcasting:\n",
            "    \n",
            "    >>> np.array([1, 2, 3.0])\n",
            "    array([ 1.,  2.,  3.])\n",
            "    \n",
            "    More than one dimension:\n",
            "    \n",
            "    >>> np.array([[1, 2], [3, 4]])\n",
            "    array([[1, 2],\n",
            "           [3, 4]])\n",
            "    \n",
            "    Minimum dimensions 2:\n",
            "    \n",
            "    >>> np.array([1, 2, 3], ndmin=2)\n",
            "    array([[1, 2, 3]])\n",
            "    \n",
            "    Type provided:\n",
            "    \n",
            "    >>> np.array([1, 2, 3], dtype=complex)\n",
            "    array([ 1.+0.j,  2.+0.j,  3.+0.j])\n",
            "    \n",
            "    Data-type consisting of more than one element:\n",
            "    \n",
            "    >>> x = np.array([(1,2),(3,4)],dtype=[('a','<i4'),('b','<i4')])\n",
            "    >>> x['a']\n",
            "    array([1, 3])\n",
            "    \n",
            "    Creating an array from sub-classes:\n",
            "    \n",
            "    >>> np.array(np.mat('1 2; 3 4'))\n",
            "    array([[1, 2],\n",
            "           [3, 4]])\n",
            "    \n",
            "    >>> np.array(np.mat('1 2; 3 4'), subok=True)\n",
            "    matrix([[1, 2],\n",
            "            [3, 4]])\n",
            "\n"
          ]
        }
      ],
      "source": [
        "help(np.array)"
      ]
    },
    {
      "cell_type": "markdown",
      "metadata": {
        "id": "Rkvj0NxwgDIx"
      },
      "source": [
        "## Restarting Runtime\n",
        "\n",
        "Sometimes, you may want to \"restart runtime\" when you've done something silly"
      ]
    },
    {
      "cell_type": "code",
      "execution_count": null,
      "metadata": {
        "colab": {
          "base_uri": "https://localhost:8080/",
          "height": 179
        },
        "id": "WtQKX0rvf130",
        "outputId": "8313f28f-4cf7-4e2c-fbd3-21382dcee8b7"
      },
      "outputs": [
        {
          "ename": "AttributeError",
          "evalue": "ignored",
          "output_type": "error",
          "traceback": [
            "\u001b[0;31m---------------------------------------------------------------------------\u001b[0m",
            "\u001b[0;31mAttributeError\u001b[0m                            Traceback (most recent call last)",
            "\u001b[0;32m<ipython-input-31-7d000ee64760>\u001b[0m in \u001b[0;36m<module>\u001b[0;34m()\u001b[0m\n\u001b[1;32m      1\u001b[0m \u001b[0mnp\u001b[0m \u001b[0;34m=\u001b[0m \u001b[0;36m5\u001b[0m\u001b[0;34m\u001b[0m\u001b[0;34m\u001b[0m\u001b[0m\n\u001b[0;32m----> 2\u001b[0;31m \u001b[0mprint\u001b[0m\u001b[0;34m(\u001b[0m\u001b[0mnp\u001b[0m\u001b[0;34m.\u001b[0m\u001b[0msin\u001b[0m\u001b[0;34m(\u001b[0m\u001b[0;36m5\u001b[0m\u001b[0;34m)\u001b[0m\u001b[0;34m)\u001b[0m\u001b[0;34m\u001b[0m\u001b[0;34m\u001b[0m\u001b[0m\n\u001b[0m",
            "\u001b[0;31mAttributeError\u001b[0m: 'int' object has no attribute 'sin'"
          ]
        }
      ],
      "source": [
        "np = 5\n",
        "print(np.sin(5))"
      ]
    },
    {
      "cell_type": "markdown",
      "metadata": {
        "id": "QsBRwgk-gxLz"
      },
      "source": [
        "Oh no! Now, comment out the above cell, \"restart runtime\" then \"run before\".\n",
        "\n",
        "- **NB:** It's good practice to make sure your Jupyter notebook runs from start to finish, if you want to email it to somebody. It's like showing your work!"
      ]
    },
    {
      "cell_type": "code",
      "execution_count": null,
      "metadata": {
        "colab": {
          "base_uri": "https://localhost:8080/"
        },
        "id": "7aV_5GbvgJO6",
        "outputId": "889f14c1-fba4-4aa6-dad1-36acce0bc361"
      },
      "outputs": [
        {
          "name": "stdout",
          "output_type": "stream",
          "text": [
            "-0.9589242746631385\n"
          ]
        }
      ],
      "source": [
        "print(np.sin(5))"
      ]
    },
    {
      "cell_type": "markdown",
      "metadata": {
        "id": "1OZBPmaVo2Kj"
      },
      "source": [
        "# Useful Programming Features"
      ]
    },
    {
      "cell_type": "markdown",
      "metadata": {
        "id": "EBH2TiRInbcf"
      },
      "source": [
        "### Lists and indexing"
      ]
    },
    {
      "cell_type": "code",
      "execution_count": null,
      "metadata": {
        "id": "W1i3P2h6na_O"
      },
      "outputs": [],
      "source": [
        "# get a list of all numbers below 20\n",
        "numbers = list(range(20))"
      ]
    },
    {
      "cell_type": "code",
      "execution_count": null,
      "metadata": {
        "colab": {
          "base_uri": "https://localhost:8080/"
        },
        "id": "kjwZmtSQodTN",
        "outputId": "99aaa22a-02e1-423d-f76f-7587e8ebc07f"
      },
      "outputs": [
        {
          "name": "stdout",
          "output_type": "stream",
          "text": [
            "[10, 11, 12, 13, 14, 15, 16, 17, 18, 19]\n"
          ]
        }
      ],
      "source": [
        "# print every number starting with the 10th (zero-indexed!)\n",
        "print(numbers[10: ])"
      ]
    },
    {
      "cell_type": "code",
      "execution_count": null,
      "metadata": {
        "colab": {
          "base_uri": "https://localhost:8080/"
        },
        "id": "rHk0IYXzoeTq",
        "outputId": "924aad7a-5534-4034-d740-12efb632ed95"
      },
      "outputs": [
        {
          "name": "stdout",
          "output_type": "stream",
          "text": [
            "[0, 1, 2, 3, 4, 5, 6, 7, 8, 9, 10, 11, 12, 13, 14, 15, 16, 17]\n",
            "[0, 1, 2, 3, 4, 5, 6, 7, 8, 9, 10, 11, 12, 13, 14, 15, 16, 17]\n"
          ]
        }
      ],
      "source": [
        "# print every number until the second to last (exclusive)\n",
        "print(numbers[ :18])\n",
        "print(numbers[ :-2]) # negative notation!"
      ]
    },
    {
      "cell_type": "code",
      "execution_count": null,
      "metadata": {
        "colab": {
          "base_uri": "https://localhost:8080/"
        },
        "id": "WWqcPMCzofsn",
        "outputId": "5608511c-fe50-423b-e5a5-923980980d42"
      },
      "outputs": [
        {
          "name": "stdout",
          "output_type": "stream",
          "text": [
            "[0, 3, 6, 9, 12, 15, 18]\n"
          ]
        }
      ],
      "source": [
        "# print every third number\n",
        "print(numbers[::3])"
      ]
    },
    {
      "cell_type": "code",
      "execution_count": null,
      "metadata": {
        "colab": {
          "base_uri": "https://localhost:8080/"
        },
        "id": "I1IMmTrUojzr",
        "outputId": "279f704b-19cf-40b4-b41e-8c9922db0eb3"
      },
      "outputs": [
        {
          "name": "stdout",
          "output_type": "stream",
          "text": [
            "[1, 3, 5, 7, 9, 11, 13, 15, 17]\n"
          ]
        }
      ],
      "source": [
        "# GETTING WILD\n",
        "print(numbers[1:-1:2])"
      ]
    },
    {
      "cell_type": "markdown",
      "metadata": {
        "id": "IDamsiYxom_T"
      },
      "source": [
        "Just remember that the syntax is `[start:stop:stride]`"
      ]
    },
    {
      "cell_type": "markdown",
      "metadata": {
        "id": "-JovjBwFr3sQ"
      },
      "source": [
        "### Defining functions\n",
        "\n",
        "It is almost always recommended to split your code up into separate, well-named functions for readability. For example:"
      ]
    },
    {
      "cell_type": "code",
      "execution_count": null,
      "metadata": {
        "id": "Whrti7PCr_OL"
      },
      "outputs": [],
      "source": [
        "def list_sum(lst):\n",
        "  '''\n",
        "  This is a docstring. It is recommended to at document your code somewhat if it can get messy. For instance:\n",
        "\n",
        "  Given a list, returns the sum of the entries of the list.\n",
        "\n",
        "  Many fancier documentation conventions exist, but any are better than none\n",
        "  '''\n",
        "  sum = 0\n",
        "  for item in lst:\n",
        "    sum += item\n",
        "  return sum"
      ]
    },
    {
      "cell_type": "code",
      "execution_count": null,
      "metadata": {
        "colab": {
          "base_uri": "https://localhost:8080/"
        },
        "id": "3NopXneYsJws",
        "outputId": "0ddff2ec-0b55-4e47-fa60-91a497a5b2dd"
      },
      "outputs": [
        {
          "name": "stdout",
          "output_type": "stream",
          "text": [
            "The sum of the list is 15\n"
          ]
        }
      ],
      "source": [
        "# in a new cell, we can call list_sum!\n",
        "my_lst = [1, 2, 3, 4, 5]\n",
        "print(\"The sum of the list is\", list_sum(my_lst))"
      ]
    },
    {
      "cell_type": "markdown",
      "metadata": {
        "id": "E1ywhpe1hSmK"
      },
      "source": [
        "# Numpy In Depth\n",
        "\n",
        "\"Numeric Python\" (not num-pee):\n",
        "\n",
        "- Mathematical functions (sine like before!)\n",
        "- Faster numerical computations (Python is not performant, numpy uses \"machine code\")"
      ]
    },
    {
      "cell_type": "markdown",
      "metadata": {
        "id": "bInHwJ_xisFe"
      },
      "source": [
        "## Numpy Mathematical Functions"
      ]
    },
    {
      "cell_type": "code",
      "execution_count": null,
      "metadata": {
        "colab": {
          "base_uri": "https://localhost:8080/"
        },
        "id": "jNW7thy9jBfL",
        "outputId": "c9d67301-f975-4435-859b-2403b6147303"
      },
      "outputs": [
        {
          "name": "stdout",
          "output_type": "stream",
          "text": [
            "The sine of pi / 6 is 0.49999999999999994\n",
            "0.5000000000000001\n"
          ]
        }
      ],
      "source": [
        "# import numpy again (\"np\" is convention)\n",
        "import numpy as np\n",
        "\n",
        "# Numpy uses radians by default\n",
        "print(\"The sine of pi / 6 is\", np.sin(np.pi / 6))\n",
        "\n",
        "# Numpy can convert for us though\n",
        "print(np.cos(np.radians(60)))"
      ]
    },
    {
      "cell_type": "markdown",
      "metadata": {
        "id": "LbvQ_zKEjjRI"
      },
      "source": [
        "### Bonus topic!\n",
        "\n",
        "Ohh, that's ugly. There are two solutions: rounding, and \"string formatting\"\n",
        "- For a string formatting cheat sheet, check out: https://kapeli.com/cheat_sheets/Python_Format_Strings.docset/Contents/Resources/Documents/index"
      ]
    },
    {
      "cell_type": "code",
      "execution_count": null,
      "metadata": {
        "colab": {
          "base_uri": "https://localhost:8080/"
        },
        "id": "W0sbkKoujga2",
        "outputId": "6760d6a2-5f98-4ff6-cbf6-430217d06b21"
      },
      "outputs": [
        {
          "name": "stdout",
          "output_type": "stream",
          "text": [
            "0.5\n",
            "0.5\n",
            "0.500000\n"
          ]
        }
      ],
      "source": [
        "print(np.round(np.sin(np.pi / 6), 6)) # round to millionths\n",
        "print(\"{:.6g}\".format(np.sin(np.pi / 6))) # print up to 6 decimal digits\n",
        "print(\"{:.6f}\".format(np.sin(np.pi / 6))) # print exactly 6 (zero padded) decimal digits"
      ]
    },
    {
      "cell_type": "markdown",
      "metadata": {
        "id": "E8cyHEUGlVZ-"
      },
      "source": [
        "### Back on track"
      ]
    },
    {
      "cell_type": "code",
      "execution_count": null,
      "metadata": {
        "colab": {
          "base_uri": "https://localhost:8080/"
        },
        "id": "_WdoiDRHlShG",
        "outputId": "65fa047f-6fec-4cdc-fadc-2d16926b4d87"
      },
      "outputs": [
        {
          "name": "stdout",
          "output_type": "stream",
          "text": [
            "The natural log of e is 1.0\n",
            "The base 10 log of 5 is 0.69897\n",
            "The inverse sine of 0.5 in degrees is 30\n"
          ]
        }
      ],
      "source": [
        "print(\"The natural log of e is\", np.log(np.e))\n",
        "print(\"The base 10 log of 5 is {:.5g}\".format(np.log10(5)))\n",
        "print(\"The inverse sine of 0.5 in degrees is {:.5g}\".format(np.degrees(np.arcsin(0.5))))"
      ]
    },
    {
      "cell_type": "markdown",
      "metadata": {
        "id": "3E9Owc9Emp74"
      },
      "source": [
        "## Numpy utility functions"
      ]
    },
    {
      "cell_type": "code",
      "execution_count": null,
      "metadata": {
        "colab": {
          "base_uri": "https://localhost:8080/"
        },
        "id": "aqNzD2ufms3v",
        "outputId": "ea8adcd6-b87c-4cfd-f6b8-2a3607e5288c"
      },
      "outputs": [
        {
          "name": "stdout",
          "output_type": "stream",
          "text": [
            "10 numbers between 0 and 1 inclusive\n",
            "[0.         0.11111111 0.22222222 0.33333333 0.44444444 0.55555556\n",
            " 0.66666667 0.77777778 0.88888889 1.        ]\n"
          ]
        }
      ],
      "source": [
        "print(\"10 numbers between 0 and 1 inclusive\")\n",
        "print(np.linspace(0, 1, 10))"
      ]
    },
    {
      "cell_type": "code",
      "execution_count": null,
      "metadata": {
        "colab": {
          "base_uri": "https://localhost:8080/"
        },
        "id": "SOuqVeD0nAvM",
        "outputId": "024098ce-fad7-4cfb-a0ff-6f7674371e5f"
      },
      "outputs": [
        {
          "name": "stdout",
          "output_type": "stream",
          "text": [
            "Count from 0 (inclusive) to 20 (exclusive) by 2s\n",
            "[ 0  2  4  6  8 10 12 14 16 18]\n"
          ]
        }
      ],
      "source": [
        "print(\"Count from 0 (inclusive) to 20 (exclusive) by 2s\")\n",
        "print(np.arange(0, 20, 2))"
      ]
    },
    {
      "cell_type": "markdown",
      "metadata": {
        "id": "00gTWvGZpdX-"
      },
      "source": [
        "Fun problem! Print a list containing all squares below 100, two ways:"
      ]
    },
    {
      "cell_type": "code",
      "execution_count": null,
      "metadata": {
        "colab": {
          "base_uri": "https://localhost:8080/"
        },
        "id": "IslNclFuprwf",
        "outputId": "f37eee9e-4490-4f8f-a272-2dcf89a1fb82"
      },
      "outputs": [
        {
          "name": "stdout",
          "output_type": "stream",
          "text": [
            "[0, 1, 4, 9, 16, 25, 36, 49, 64, 81]\n",
            "[ 0  1  4  9 16 25 36 49 64 81]\n"
          ]
        }
      ],
      "source": [
        "# way 1\n",
        "squares = []\n",
        "for i in range(100):\n",
        "  if np.sqrt(i) == np.floor(np.sqrt(i)):\n",
        "    squares.append(i)\n",
        "print(squares)\n",
        "\n",
        "# way 2\n",
        "vals = np.arange(100)\n",
        "square_idxs = np.where(np.sqrt(vals) == np.floor(np.sqrt(vals)))[0]\n",
        "print(vals[square_idxs])"
      ]
    },
    {
      "cell_type": "markdown",
      "metadata": {
        "id": "HUNIdXvStE5A"
      },
      "source": [
        "## 2D Arrays\n",
        "\n",
        "Numpy supports multidimensional arrays! You can slice them in all sorts of fun ways."
      ]
    },
    {
      "cell_type": "code",
      "execution_count": null,
      "metadata": {
        "colab": {
          "base_uri": "https://localhost:8080/"
        },
        "id": "feU8sHOhtDvz",
        "outputId": "f15e8984-4b1e-4ccb-f1f8-48246559e042"
      },
      "outputs": [
        {
          "name": "stdout",
          "output_type": "stream",
          "text": [
            "[[1 2]\n",
            " [3 4]]\n"
          ]
        }
      ],
      "source": [
        "twod_arr = np.array([[1, 2], [3, 4]])\n",
        "print(twod_arr)"
      ]
    },
    {
      "cell_type": "code",
      "execution_count": null,
      "metadata": {
        "colab": {
          "base_uri": "https://localhost:8080/"
        },
        "id": "QStGUHoht3Il",
        "outputId": "422c311b-6f40-4261-f5b9-5777f3373541"
      },
      "outputs": [
        {
          "name": "stdout",
          "output_type": "stream",
          "text": [
            "[1 2] [1 2]\n"
          ]
        }
      ],
      "source": [
        "print(twod_arr[0], twod_arr[0, :]) # specify multiple indicies via a comma; later indicies can be omitted"
      ]
    },
    {
      "cell_type": "code",
      "execution_count": null,
      "metadata": {
        "colab": {
          "base_uri": "https://localhost:8080/"
        },
        "id": "MHfjeoDmtvSQ",
        "outputId": "d33d0934-53e8-4e2b-e777-668f2d3960b2"
      },
      "outputs": [
        {
          "name": "stdout",
          "output_type": "stream",
          "text": [
            "[1 3]\n"
          ]
        }
      ],
      "source": [
        "print(twod_arr[:, 0]) # slice notation in the first index this time"
      ]
    },
    {
      "cell_type": "code",
      "execution_count": null,
      "metadata": {
        "colab": {
          "base_uri": "https://localhost:8080/"
        },
        "id": "M9rjS5B0tyTG",
        "outputId": "30a5bcb3-4dfa-4427-bb9b-32f6b552d0e2"
      },
      "outputs": [
        {
          "name": "stdout",
          "output_type": "stream",
          "text": [
            "4\n"
          ]
        }
      ],
      "source": [
        "print(twod_arr[1, 1]) # a single element"
      ]
    },
    {
      "cell_type": "markdown",
      "metadata": {
        "id": "PvErULlyqCft"
      },
      "source": [
        "## The strength of numpy\n",
        "\n",
        "Loops are **very** slow in Python, and you should try to avoid them as much as possible. Let's see a few examples"
      ]
    },
    {
      "cell_type": "code",
      "execution_count": null,
      "metadata": {
        "colab": {
          "base_uri": "https://localhost:8080/"
        },
        "id": "wcd2_zKRqJr2",
        "outputId": "6b1bb926-1ddf-4a0c-b7fd-0d29813d2ec7"
      },
      "outputs": [
        {
          "name": "stdout",
          "output_type": "stream",
          "text": [
            "Took 0.375018 seconds\n",
            "Took 0.001565 seconds\n"
          ]
        }
      ],
      "source": [
        "import time\n",
        "\n",
        "# using loops\n",
        "num_nums = 1000000\n",
        "a = list(range(num_nums))\n",
        "start = time.time()\n",
        "for idx in range(num_nums):\n",
        "  a[idx] = a[idx]**2\n",
        "print(\"Took {:.6f} seconds\".format(time.time() - start))\n",
        "\n",
        "# using numpy\n",
        "a = np.arange(num_nums)\n",
        "start = time.time()\n",
        "a = a**2\n",
        "print(\"Took {:.6f} seconds\".format(time.time() - start))"
      ]
    },
    {
      "cell_type": "markdown",
      "metadata": {
        "id": "Lkx0XCdmq1kQ"
      },
      "source": [
        "This is especially useful for all of the built in numpy functions!"
      ]
    },
    {
      "cell_type": "code",
      "execution_count": null,
      "metadata": {
        "colab": {
          "base_uri": "https://localhost:8080/"
        },
        "id": "20lJF9K4q06k",
        "outputId": "06671fa1-0a5e-49e6-b801-ae6e7fc73d4d"
      },
      "outputs": [
        {
          "name": "stdout",
          "output_type": "stream",
          "text": [
            "Took 1.651563 seconds\n",
            "Took 0.022850 seconds\n"
          ]
        }
      ],
      "source": [
        "# using loops\n",
        "num_nums = 1000000\n",
        "a = list(range(num_nums))\n",
        "start = time.time()\n",
        "for idx in range(num_nums):\n",
        "  a[idx] = np.sin(a[idx])\n",
        "print(\"Took {:.6f} seconds\".format(time.time() - start))\n",
        "\n",
        "# using numpy\n",
        "a = np.arange(num_nums)\n",
        "start = time.time()\n",
        "a = np.sin(a)\n",
        "print(\"Took {:.6f} seconds\".format(time.time() - start))"
      ]
    },
    {
      "cell_type": "markdown",
      "metadata": {
        "id": "cLXtoAoerGqd"
      },
      "source": [
        "Numpy knows that this is the best way to handle things, so you can do simple things like multiply and add numpy arrays!"
      ]
    },
    {
      "cell_type": "code",
      "execution_count": null,
      "metadata": {
        "colab": {
          "base_uri": "https://localhost:8080/"
        },
        "id": "hEdrnexqre5_",
        "outputId": "545f3db5-3419-4af1-a147-ad38ada29e9e"
      },
      "outputs": [
        {
          "name": "stdout",
          "output_type": "stream",
          "text": [
            "[ 0  2  4  6  8 10 12 14 16 18]\n",
            "[ 0  1  4  9 16 25 36 49 64 81]\n"
          ]
        }
      ],
      "source": [
        "a = np.arange(10)\n",
        "b = np.arange(10)\n",
        "print(2 * a)\n",
        "print(a * b)"
      ]
    },
    {
      "cell_type": "markdown",
      "metadata": {
        "id": "8wGypJXZt9R5"
      },
      "source": [
        "### Challenge example & problem: create a 2d array of products\n",
        "\n",
        "We will try to create a two-d array such that `a[i, j] = i * j`. Let's see how much faster vectorization is!"
      ]
    },
    {
      "cell_type": "code",
      "execution_count": null,
      "metadata": {
        "colab": {
          "base_uri": "https://localhost:8080/"
        },
        "id": "yNNavYNst8vB",
        "outputId": "fb13379b-dbdc-4695-d18d-4480ce18327e"
      },
      "outputs": [
        {
          "name": "stdout",
          "output_type": "stream",
          "text": [
            "[[0. 0. 0. 0.]\n",
            " [0. 1. 2. 3.]\n",
            " [0. 2. 4. 6.]\n",
            " [0. 3. 6. 9.]]\n"
          ]
        }
      ],
      "source": [
        "# First, a python way\n",
        "def twod_products_python(n):\n",
        "  res = np.zeros((n, n))\n",
        "  for i in range(n):\n",
        "    for j in range(n):\n",
        "      res[i, j] = i * j\n",
        "  return res\n",
        "print(twod_products_python(4))"
      ]
    },
    {
      "cell_type": "code",
      "execution_count": null,
      "metadata": {
        "colab": {
          "base_uri": "https://localhost:8080/"
        },
        "id": "pB9BhWV6uVaK",
        "outputId": "92671c6e-af36-4daf-9f38-d468f99028db"
      },
      "outputs": [
        {
          "name": "stdout",
          "output_type": "stream",
          "text": [
            "Took 0.792772 seconds\n"
          ]
        }
      ],
      "source": [
        "# how fast is Python?\n",
        "import time\n",
        "start = time.time()\n",
        "res = twod_products_python(2000)\n",
        "print(\"Took {:.6f} seconds\".format(time.time() - start))"
      ]
    },
    {
      "cell_type": "code",
      "execution_count": null,
      "metadata": {
        "id": "pdJXARsmu-zr"
      },
      "outputs": [],
      "source": [
        "# Can we do better?\n",
        "def twod_products_vec(n):\n",
        "  arr_vals = np.arange(n)\n",
        "  return np.outer(arr_vals, arr_vals)"
      ]
    },
    {
      "cell_type": "code",
      "execution_count": null,
      "metadata": {
        "colab": {
          "base_uri": "https://localhost:8080/"
        },
        "id": "RXXLvqwYvOov",
        "outputId": "db6e8ce2-33a8-48d2-98f9-f9d58e2529e1"
      },
      "outputs": [
        {
          "name": "stdout",
          "output_type": "stream",
          "text": [
            "Took 0.032668 seconds\n",
            "0\n"
          ]
        }
      ],
      "source": [
        "start = time.time()\n",
        "res_vec = twod_products_vec(2000)\n",
        "print(\"Took {:.6f} seconds\".format(time.time() - start))\n",
        "print(len(np.where(res_vec - res > 0)[0]))"
      ]
    }
  ],
  "metadata": {
    "colab": {
      "name": "Day1",
      "provenance": []
    },
    "kernelspec": {
      "display_name": "Python 3",
      "name": "python3"
    },
    "language_info": {
      "name": "python"
    }
  },
  "nbformat": 4,
  "nbformat_minor": 0
}
