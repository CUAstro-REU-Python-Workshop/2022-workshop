{
 "cells": [
  {
   "cell_type": "markdown",
   "metadata": {},
   "source": [
    "# Day 1 - using NumPy"
   ]
  },
  {
   "cell_type": "markdown",
   "metadata": {},
   "source": [
    "## NumPy arrays"
   ]
  },
  {
   "cell_type": "markdown",
   "metadata": {},
   "source": [
    "The Python language has several native data structures used to store and manipulate data. These include the list (e.g. `['item 1', 'item 2']`), the dictionary (e.g. `{'eggs': 2, 'lemons': 12}`), the tuple (e.g. `(0, 2, 'no value', True)`), and the set (e.g. `set(('oak', 'pine', 'birch'))`).\n",
    "\n",
    "The NumPy array is an additional data structure added by the NumPy package. It allows for more convenient numerical calculations in Python, which are also faster than attempting to use the native Python structures for numerics. This is primarily because NumPy is partially written in C, and NumPy arrays can be handled internally by NumPy as C objects, then passed back to you in Python.\n",
    "\n",
    "In order to use NumPy arrays, we need to import NumPy:"
   ]
  },
  {
   "cell_type": "code",
   "execution_count": 1,
   "metadata": {},
   "outputs": [],
   "source": [
    "import numpy as np"
   ]
  },
  {
   "cell_type": "markdown",
   "metadata": {},
   "source": [
    "Now we can create a NumPy array using the numpy.array constructor:"
   ]
  },
  {
   "cell_type": "code",
   "execution_count": 2,
   "metadata": {},
   "outputs": [
    {
     "data": {
      "text/plain": [
       "array([1, 2, 3])"
      ]
     },
     "execution_count": 2,
     "metadata": {},
     "output_type": "execute_result"
    }
   ],
   "source": [
    "example_array = np.array([1, 2, 3])\n",
    "example_array"
   ]
  },
  {
   "cell_type": "markdown",
   "metadata": {},
   "source": [
    "We create the numpy array by calling the constructor function `np.array` on what we want the contents of the array to be, in this case the integers 1, 2, and 3.\n",
    "\n",
    "Note we put them into a list first by wrapping these numbers with brackets. You can also pass tuples as arguments to create a NumPy array:"
   ]
  },
  {
   "cell_type": "code",
   "execution_count": 3,
   "metadata": {},
   "outputs": [
    {
     "data": {
      "text/plain": [
       "array([1, 2, 3])"
      ]
     },
     "execution_count": 3,
     "metadata": {},
     "output_type": "execute_result"
    }
   ],
   "source": [
    "example_array_from_tuple = np.array((1, 2, 3))\n",
    "example_array_from_tuple"
   ]
  },
  {
   "cell_type": "markdown",
   "metadata": {},
   "source": [
    "### Accessing array elements"
   ]
  },
  {
   "cell_type": "markdown",
   "metadata": {},
   "source": [
    "Like a list, you can access the elements of an array using indices:"
   ]
  },
  {
   "cell_type": "code",
   "execution_count": 4,
   "metadata": {},
   "outputs": [
    {
     "name": "stdout",
     "output_type": "stream",
     "text": [
      "1\n",
      "3\n"
     ]
    }
   ],
   "source": [
    "print(example_array[0])\n",
    "print(example_array[-1])"
   ]
  },
  {
   "cell_type": "markdown",
   "metadata": {},
   "source": [
    "You can also use list \"slice notation\" to get partial subsets of the array:"
   ]
  },
  {
   "cell_type": "code",
   "execution_count": 5,
   "metadata": {},
   "outputs": [
    {
     "data": {
      "text/plain": [
       "array([1, 2])"
      ]
     },
     "execution_count": 5,
     "metadata": {},
     "output_type": "execute_result"
    }
   ],
   "source": [
    "example_array[0:2:1]"
   ]
  },
  {
   "cell_type": "markdown",
   "metadata": {},
   "source": [
    "Slice notation takes the form of `start:stop:step`, where `start` is the index you want to start at, `stop-1` is where you want to stop, and `step` gives the step size as you jump from `start` to `stop-1`.\n",
    "\n",
    "For the simple slice above, you can abbreviate the slice notation because it assumes the default  `start` to be the first index, a default `stop` at the last index, and a default `step` of 1:"
   ]
  },
  {
   "cell_type": "code",
   "execution_count": 6,
   "metadata": {},
   "outputs": [
    {
     "data": {
      "text/plain": [
       "array([1, 2])"
      ]
     },
     "execution_count": 6,
     "metadata": {},
     "output_type": "execute_result"
    }
   ],
   "source": [
    "example_array[:2]"
   ]
  },
  {
   "cell_type": "markdown",
   "metadata": {},
   "source": [
    "Here we only wanted to change `stop`, so you can leave the other fields blank and drop the second colon. Let's look at a more complicated example:"
   ]
  },
  {
   "cell_type": "code",
   "execution_count": 7,
   "metadata": {},
   "outputs": [
    {
     "data": {
      "text/plain": [
       "array([1, 3, 5, 7])"
      ]
     },
     "execution_count": 7,
     "metadata": {},
     "output_type": "execute_result"
    }
   ],
   "source": [
    "longer_array = np.array([0, 1, 2, 3, 4, 5, 6, 7, 8, 9])\n",
    "longer_array[1:8:2]"
   ]
  },
  {
   "cell_type": "markdown",
   "metadata": {},
   "source": [
    "We start off at the second element (1), then jump in steps of 2 until we get to the eighth element (7).\n",
    "\n",
    "Notice that `start` is inclusive, but `stop` is not:"
   ]
  },
  {
   "cell_type": "code",
   "execution_count": 8,
   "metadata": {},
   "outputs": [
    {
     "data": {
      "text/plain": [
       "array([1, 3, 5])"
      ]
     },
     "execution_count": 8,
     "metadata": {},
     "output_type": "execute_result"
    }
   ],
   "source": [
    "longer_array[1:7:2]"
   ]
  },
  {
   "cell_type": "markdown",
   "metadata": {},
   "source": [
    "#### Task:\n",
    "Try creating an array that contains the integers 1 though 10, and access every 3rd element, i.e. you should have as your output\n",
    "```\n",
    "array([1, 4, 7, 10])\n",
    "```"
   ]
  },
  {
   "cell_type": "code",
   "execution_count": 9,
   "metadata": {},
   "outputs": [
    {
     "data": {
      "text/plain": [
       "array([ 1,  4,  7, 10])"
      ]
     },
     "execution_count": 9,
     "metadata": {},
     "output_type": "execute_result"
    }
   ],
   "source": [
    "your_array = np.array([1, 2, 3, 4, 5, 6, 7, 8, 9, 10])\n",
    "your_array[::3]"
   ]
  },
  {
   "cell_type": "markdown",
   "metadata": {},
   "source": [
    "### Higher dimensional arrays"
   ]
  },
  {
   "cell_type": "markdown",
   "metadata": {},
   "source": [
    "So far we've been looking at only 1-dimensional arrays, but arrays can be multi-dimensional:"
   ]
  },
  {
   "cell_type": "code",
   "execution_count": 10,
   "metadata": {},
   "outputs": [
    {
     "data": {
      "text/plain": [
       "array([[1, 0],\n",
       "       [0, 1]])"
      ]
     },
     "execution_count": 10,
     "metadata": {},
     "output_type": "execute_result"
    }
   ],
   "source": [
    "np.array([[1, 0], [0, 1]]) # this is a (2, 2) array"
   ]
  },
  {
   "cell_type": "code",
   "execution_count": 11,
   "metadata": {},
   "outputs": [
    {
     "data": {
      "text/plain": [
       "array([[[1, 0],\n",
       "        [0, 1]],\n",
       "\n",
       "       [[0, 1],\n",
       "        [1, 0]]])"
      ]
     },
     "execution_count": 11,
     "metadata": {},
     "output_type": "execute_result"
    }
   ],
   "source": [
    "np.array([[[1, 0], [0, 1]], [[0, 1], [1, 0]]]) # this is a (2, 2, 2) array"
   ]
  },
  {
   "cell_type": "markdown",
   "metadata": {},
   "source": [
    "### Constructing arrays from functions and Array Shape"
   ]
  },
  {
   "cell_type": "markdown",
   "metadata": {},
   "source": [
    "Especially for long or many-dimensional arrays, it is laborious to build arrays by hand-typing in their elements. You can use various functions in NumPy to automatically create arrays with different kinds of elements.\n",
    "\n",
    "For example, the `numpy.zeros` function creates an array filled with zeros:"
   ]
  },
  {
   "cell_type": "code",
   "execution_count": 12,
   "metadata": {},
   "outputs": [
    {
     "data": {
      "text/plain": [
       "array([0., 0., 0., 0., 0.])"
      ]
     },
     "execution_count": 12,
     "metadata": {},
     "output_type": "execute_result"
    }
   ],
   "source": [
    "np.zeros(5)"
   ]
  },
  {
   "cell_type": "markdown",
   "metadata": {},
   "source": [
    "I put in a 5 as an argument and got out a 1D array of length 5. If I want a higher dimensional array of zeros, I need to put in a tuple holding the length along each \"axis\" of the array. This tuple is called the \"shape\" of the array:"
   ]
  },
  {
   "cell_type": "code",
   "execution_count": 13,
   "metadata": {},
   "outputs": [
    {
     "data": {
      "text/plain": [
       "array([[[0., 0., 0., 0.],\n",
       "        [0., 0., 0., 0.],\n",
       "        [0., 0., 0., 0.]],\n",
       "\n",
       "       [[0., 0., 0., 0.],\n",
       "        [0., 0., 0., 0.],\n",
       "        [0., 0., 0., 0.]]])"
      ]
     },
     "execution_count": 13,
     "metadata": {},
     "output_type": "execute_result"
    }
   ],
   "source": [
    "zero_array = np.zeros((2, 3, 4))\n",
    "zero_array"
   ]
  },
  {
   "cell_type": "markdown",
   "metadata": {},
   "source": [
    "Here I put in the tuple `(2, 3, 4)` as the argument, meaning I am asking for an array full of zeros, with shape `(2, 3, 4)`. If I want to check the shape of an array I can examine the `.shape` attribute of the array:"
   ]
  },
  {
   "cell_type": "code",
   "execution_count": 14,
   "metadata": {},
   "outputs": [
    {
     "data": {
      "text/plain": [
       "(2, 3, 4)"
      ]
     },
     "execution_count": 14,
     "metadata": {},
     "output_type": "execute_result"
    }
   ],
   "source": [
    "zero_array.shape"
   ]
  },
  {
   "cell_type": "markdown",
   "metadata": {},
   "source": [
    "You can also reshape arrays into higher or lower dimensions:"
   ]
  },
  {
   "cell_type": "code",
   "execution_count": 15,
   "metadata": {},
   "outputs": [
    {
     "data": {
      "text/plain": [
       "array([[0, 1, 2, 3, 4],\n",
       "       [5, 6, 7, 8, 9]])"
      ]
     },
     "execution_count": 15,
     "metadata": {},
     "output_type": "execute_result"
    }
   ],
   "source": [
    "np.arange(10).reshape(2, 5)"
   ]
  },
  {
   "cell_type": "code",
   "execution_count": 16,
   "metadata": {},
   "outputs": [
    {
     "name": "stdout",
     "output_type": "stream",
     "text": [
      "array([[0, 1, 2],\n",
      "       [3, 4, 5]])\n",
      "--------------------------\n",
      "array([0, 1, 2, 3, 4, 5])\n"
     ]
    }
   ],
   "source": [
    "a = np.arange(6).reshape(2, 3)\n",
    "print(repr(a))\n",
    "print(26*'-')\n",
    "print(repr(a.reshape(6)))"
   ]
  },
  {
   "cell_type": "markdown",
   "metadata": {},
   "source": [
    "Above we used the `numpy.arange` function, which produces a \"flat\" (1D) array of numbers that increase sequentially. You can look up more details about this and other numpy functions using [their documentation](https://numpy.org/doc/stable/reference/generated/numpy.arange.html)."
   ]
  },
  {
   "cell_type": "markdown",
   "metadata": {},
   "source": [
    "#### Task:\n",
    "The array below has 123456 elements. Try reshaping it so it's first axis has length 1929.\n",
    "\n",
    "Hint: the `.reshape` method lets you specify an axis to have length -1, which will automatically determine that axis's length. For example,\n",
    "```python\n",
    "np.arange(10).reshape(2, -1)\n",
    "```\n",
    "\n",
    "will reshape to a `(2, 5)` array."
   ]
  },
  {
   "cell_type": "code",
   "execution_count": 17,
   "metadata": {},
   "outputs": [],
   "source": [
    "huge_array = np.arange(123456)"
   ]
  },
  {
   "cell_type": "code",
   "execution_count": 21,
   "metadata": {
    "scrolled": true
   },
   "outputs": [
    {
     "name": "stdout",
     "output_type": "stream",
     "text": [
      "array([[     0,      1,      2, ...,     61,     62,     63],\n",
      "       [    64,     65,     66, ...,    125,    126,    127],\n",
      "       [   128,    129,    130, ...,    189,    190,    191],\n",
      "       ...,\n",
      "       [123264, 123265, 123266, ..., 123325, 123326, 123327],\n",
      "       [123328, 123329, 123330, ..., 123389, 123390, 123391],\n",
      "       [123392, 123393, 123394, ..., 123453, 123454, 123455]])\n",
      "------------------------------------------\n"
     ]
    },
    {
     "data": {
      "text/plain": [
       "(1929, 64)"
      ]
     },
     "execution_count": 21,
     "metadata": {},
     "output_type": "execute_result"
    }
   ],
   "source": [
    "reshaped_huge_array = huge_array.reshape(1929, -1)\n",
    "print(repr(reshaped_huge_array))\n",
    "print(42*'-')\n",
    "reshaped_huge_array.shape"
   ]
  },
  {
   "cell_type": "markdown",
   "metadata": {},
   "source": [
    "### Setting array values"
   ]
  },
  {
   "cell_type": "markdown",
   "metadata": {},
   "source": [
    "You can explicitly set array values using either indices or slice-notation:"
   ]
  },
  {
   "cell_type": "code",
   "execution_count": 22,
   "metadata": {},
   "outputs": [
    {
     "data": {
      "text/plain": [
       "array([0., 0., 0., 0.])"
      ]
     },
     "execution_count": 22,
     "metadata": {},
     "output_type": "execute_result"
    }
   ],
   "source": [
    "array = np.zeros(4)\n",
    "array"
   ]
  },
  {
   "cell_type": "code",
   "execution_count": 23,
   "metadata": {},
   "outputs": [
    {
     "data": {
      "text/plain": [
       "array([1., 0., 0., 0.])"
      ]
     },
     "execution_count": 23,
     "metadata": {},
     "output_type": "execute_result"
    }
   ],
   "source": [
    "array[0] = 1\n",
    "array"
   ]
  },
  {
   "cell_type": "code",
   "execution_count": 24,
   "metadata": {},
   "outputs": [
    {
     "data": {
      "text/plain": [
       "array([1., 0., 1., 1.])"
      ]
     },
     "execution_count": 24,
     "metadata": {},
     "output_type": "execute_result"
    }
   ],
   "source": [
    "array[2:] = 1\n",
    "array"
   ]
  },
  {
   "cell_type": "markdown",
   "metadata": {},
   "source": [
    "This is especially useful on multidimensional arrays, where you can set entire rows/columns to a specific value:"
   ]
  },
  {
   "cell_type": "code",
   "execution_count": 25,
   "metadata": {},
   "outputs": [
    {
     "data": {
      "text/plain": [
       "array([[ 0,  1,  2,  3],\n",
       "       [ 4,  5,  6,  7],\n",
       "       [ 8,  9, 10, 11],\n",
       "       [12, 13, 14, 15],\n",
       "       [16, 17, 18, 19],\n",
       "       [20, 21, 22, 23]])"
      ]
     },
     "execution_count": 25,
     "metadata": {},
     "output_type": "execute_result"
    }
   ],
   "source": [
    "array = np.arange(24).reshape(6, 4)\n",
    "array"
   ]
  },
  {
   "cell_type": "code",
   "execution_count": 26,
   "metadata": {},
   "outputs": [
    {
     "data": {
      "text/plain": [
       "array([[ 0,  1,  2,  3],\n",
       "       [ 0,  5,  6,  7],\n",
       "       [ 0,  9, 10, 11],\n",
       "       [ 0, 13, 14, 15],\n",
       "       [ 0, 17, 18, 19],\n",
       "       [ 0, 21, 22, 23]])"
      ]
     },
     "execution_count": 26,
     "metadata": {},
     "output_type": "execute_result"
    }
   ],
   "source": [
    "array[:, 0] = 0\n",
    "array"
   ]
  },
  {
   "cell_type": "code",
   "execution_count": 27,
   "metadata": {},
   "outputs": [
    {
     "data": {
      "text/plain": [
       "array([[ 0,  0,  0,  0],\n",
       "       [ 0,  5,  6,  7],\n",
       "       [ 0,  9, 10, 11],\n",
       "       [ 0, 13, 14, 15],\n",
       "       [ 0, 17, 18, 19],\n",
       "       [ 0, 21, 22, 23]])"
      ]
     },
     "execution_count": 27,
     "metadata": {},
     "output_type": "execute_result"
    }
   ],
   "source": [
    "array[0, :] = 0\n",
    "array"
   ]
  },
  {
   "cell_type": "markdown",
   "metadata": {},
   "source": [
    "Here we set both the first row and the first column to zero. This also demonstrates how to index higher dimensional arrays: you use a comma to separate the indices for each axis. You can use a colon with no `start:stop:step` arguments to select an entire axis, as above."
   ]
  },
  {
   "cell_type": "markdown",
   "metadata": {},
   "source": [
    "#### Task:\n",
    "Set the values of the array below to alternate between 1 and 2 in each row ans column, i.e. to look like\n",
    "```\n",
    "1, 2, 1, ...\n",
    "2, 1, 2, ...\n",
    "1, 2, 1, ...\n",
    ".  .  .\n",
    ".  .  .\n",
    "```"
   ]
  },
  {
   "cell_type": "code",
   "execution_count": 41,
   "metadata": {},
   "outputs": [
    {
     "data": {
      "text/plain": [
       "array([[0, 0, 0, 0, 0, 0, 0, 0, 0, 0],\n",
       "       [0, 0, 0, 0, 0, 0, 0, 0, 0, 0],\n",
       "       [0, 0, 0, 0, 0, 0, 0, 0, 0, 0],\n",
       "       [0, 0, 0, 0, 0, 0, 0, 0, 0, 0],\n",
       "       [0, 0, 0, 0, 0, 0, 0, 0, 0, 0],\n",
       "       [0, 0, 0, 0, 0, 0, 0, 0, 0, 0],\n",
       "       [0, 0, 0, 0, 0, 0, 0, 0, 0, 0],\n",
       "       [0, 0, 0, 0, 0, 0, 0, 0, 0, 0],\n",
       "       [0, 0, 0, 0, 0, 0, 0, 0, 0, 0],\n",
       "       [0, 0, 0, 0, 0, 0, 0, 0, 0, 0]])"
      ]
     },
     "execution_count": 41,
     "metadata": {},
     "output_type": "execute_result"
    }
   ],
   "source": [
    "array = np.zeros(10**2, dtype=int).reshape(10, 10)\n",
    "array"
   ]
  },
  {
   "cell_type": "code",
   "execution_count": 44,
   "metadata": {},
   "outputs": [
    {
     "data": {
      "text/plain": [
       "array([[1, 2, 1, 2, 1, 2, 1, 2, 1, 2],\n",
       "       [2, 1, 2, 1, 2, 1, 2, 1, 2, 1],\n",
       "       [1, 2, 1, 2, 1, 2, 1, 2, 1, 2],\n",
       "       [2, 1, 2, 1, 2, 1, 2, 1, 2, 1],\n",
       "       [1, 2, 1, 2, 1, 2, 1, 2, 1, 2],\n",
       "       [2, 1, 2, 1, 2, 1, 2, 1, 2, 1],\n",
       "       [1, 2, 1, 2, 1, 2, 1, 2, 1, 2],\n",
       "       [2, 1, 2, 1, 2, 1, 2, 1, 2, 1],\n",
       "       [1, 2, 1, 2, 1, 2, 1, 2, 1, 2],\n",
       "       [2, 1, 2, 1, 2, 1, 2, 1, 2, 1]])"
      ]
     },
     "execution_count": 44,
     "metadata": {},
     "output_type": "execute_result"
    }
   ],
   "source": [
    "array[::2, :] = 1 # set every other row to 1\n",
    "array[1::2, :] = 2 # set the remaining rows to 2\n",
    "\n",
    "array[::2, 1::2] = 2 # for every other row, set every other column (shifted by 1) to 2\n",
    "array[1::2, 1::2] = 1 # for the remaing rows, set every other column (shifted by 1) to 1\n",
    "array"
   ]
  },
  {
   "cell_type": "markdown",
   "metadata": {},
   "source": [
    "## Performing calculations with NumPy arrays"
   ]
  },
  {
   "cell_type": "markdown",
   "metadata": {},
   "source": [
    "### Evaluating basic functions"
   ]
  },
  {
   "cell_type": "markdown",
   "metadata": {},
   "source": [
    "How can we use Python and NumPy to perform a simple mathematical task, like defining a function, evaluating it on some inputs, and plotting it?\n",
    "\n",
    "We'll leave the details on plotting for another day, I'll just provide the code to make a plot below. Instead let's focus on the first two steps.\n",
    "\n",
    "First, we need to define some inputs. Let's use the real numbers in the closed interval $[0, 1]$:"
   ]
  },
  {
   "cell_type": "code",
   "execution_count": 45,
   "metadata": {},
   "outputs": [
    {
     "data": {
      "text/plain": [
       "array([0.        , 0.02564103, 0.05128205, 0.07692308, 0.1025641 ,\n",
       "       0.12820513, 0.15384615, 0.17948718, 0.20512821, 0.23076923,\n",
       "       0.25641026, 0.28205128, 0.30769231, 0.33333333, 0.35897436,\n",
       "       0.38461538, 0.41025641, 0.43589744, 0.46153846, 0.48717949,\n",
       "       0.51282051, 0.53846154, 0.56410256, 0.58974359, 0.61538462,\n",
       "       0.64102564, 0.66666667, 0.69230769, 0.71794872, 0.74358974,\n",
       "       0.76923077, 0.79487179, 0.82051282, 0.84615385, 0.87179487,\n",
       "       0.8974359 , 0.92307692, 0.94871795, 0.97435897, 1.        ])"
      ]
     },
     "execution_count": 45,
     "metadata": {},
     "output_type": "execute_result"
    }
   ],
   "source": [
    "xs = np.linspace(0, 1, 40)\n",
    "xs"
   ]
  },
  {
   "cell_type": "markdown",
   "metadata": {},
   "source": [
    "Of course we can't actually get _all_ of the numbers in that interval, but we can sample that interval to approximate a smooth set. \n",
    "\n",
    "Here we used the `numpy.linspace` function to get 40 samples: the first argument is the left endpoint, the second value the right input, and the third value the number of samples to output. They are evenly spaced.\n",
    "\n",
    "Now we need to define a function. Let's pick $f(x) = x^2$ as an example:"
   ]
  },
  {
   "cell_type": "code",
   "execution_count": 46,
   "metadata": {},
   "outputs": [],
   "source": [
    "def f(x):\n",
    "    return x**2"
   ]
  },
  {
   "cell_type": "markdown",
   "metadata": {},
   "source": [
    "So now what do we do? Well it turns out all we need to do is plug our array into `f`:"
   ]
  },
  {
   "cell_type": "code",
   "execution_count": 47,
   "metadata": {},
   "outputs": [
    {
     "data": {
      "text/plain": [
       "array([0.00000000e+00, 6.57462196e-04, 2.62984878e-03, 5.91715976e-03,\n",
       "       1.05193951e-02, 1.64365549e-02, 2.36686391e-02, 3.22156476e-02,\n",
       "       4.20775805e-02, 5.32544379e-02, 6.57462196e-02, 7.95529257e-02,\n",
       "       9.46745562e-02, 1.11111111e-01, 1.28862590e-01, 1.47928994e-01,\n",
       "       1.68310322e-01, 1.90006575e-01, 2.13017751e-01, 2.37343853e-01,\n",
       "       2.62984878e-01, 2.89940828e-01, 3.18211703e-01, 3.47797502e-01,\n",
       "       3.78698225e-01, 4.10913872e-01, 4.44444444e-01, 4.79289941e-01,\n",
       "       5.15450362e-01, 5.52925707e-01, 5.91715976e-01, 6.31821170e-01,\n",
       "       6.73241289e-01, 7.15976331e-01, 7.60026298e-01, 8.05391190e-01,\n",
       "       8.52071006e-01, 9.00065746e-01, 9.49375411e-01, 1.00000000e+00])"
      ]
     },
     "execution_count": 47,
     "metadata": {},
     "output_type": "execute_result"
    }
   ],
   "source": [
    "ys = f(xs)\n",
    "ys"
   ]
  },
  {
   "cell_type": "markdown",
   "metadata": {},
   "source": [
    "In many cases, and in all cases for basic math operators like `+, -, *, /, ^` (and less basic ones like `//` and `@`), you can just apply them directly to NumPy arrays. In fact, I could have just set `ys` equal to this:"
   ]
  },
  {
   "cell_type": "code",
   "execution_count": 48,
   "metadata": {},
   "outputs": [
    {
     "data": {
      "text/plain": [
       "array([0.00000000e+00, 6.57462196e-04, 2.62984878e-03, 5.91715976e-03,\n",
       "       1.05193951e-02, 1.64365549e-02, 2.36686391e-02, 3.22156476e-02,\n",
       "       4.20775805e-02, 5.32544379e-02, 6.57462196e-02, 7.95529257e-02,\n",
       "       9.46745562e-02, 1.11111111e-01, 1.28862590e-01, 1.47928994e-01,\n",
       "       1.68310322e-01, 1.90006575e-01, 2.13017751e-01, 2.37343853e-01,\n",
       "       2.62984878e-01, 2.89940828e-01, 3.18211703e-01, 3.47797502e-01,\n",
       "       3.78698225e-01, 4.10913872e-01, 4.44444444e-01, 4.79289941e-01,\n",
       "       5.15450362e-01, 5.52925707e-01, 5.91715976e-01, 6.31821170e-01,\n",
       "       6.73241289e-01, 7.15976331e-01, 7.60026298e-01, 8.05391190e-01,\n",
       "       8.52071006e-01, 9.00065746e-01, 9.49375411e-01, 1.00000000e+00])"
      ]
     },
     "execution_count": 48,
     "metadata": {},
     "output_type": "execute_result"
    }
   ],
   "source": [
    "xs**2"
   ]
  },
  {
   "cell_type": "markdown",
   "metadata": {},
   "source": [
    "For any complicated function it's worth defining it explicitly like we did above, though. So let's see how this worked:"
   ]
  },
  {
   "cell_type": "code",
   "execution_count": 49,
   "metadata": {},
   "outputs": [
    {
     "data": {
      "image/png": "[encoded data removed]",
      "text/plain": [
       "<Figure size 432x288 with 1 Axes>"
      ]
     },
     "metadata": {
      "needs_background": "light"
     },
     "output_type": "display_data"
    }
   ],
   "source": [
    "%matplotlib inline\n",
    "import matplotlib.pyplot as plt\n",
    "\n",
    "plt.plot(xs, ys)\n",
    "pass # this stops plt.plot from returning a value to the output"
   ]
  },
  {
   "cell_type": "markdown",
   "metadata": {},
   "source": [
    "Looks good! "
   ]
  },
  {
   "cell_type": "markdown",
   "metadata": {},
   "source": [
    "#### Task:\n",
    "Invent your own function and plot it using the snippet `plt.plot(xs, your_ys)` (you can change the x-coordinates too if you like). \n",
    "\n",
    "You could try a function like $x^2 + x$, or try to write a floor or ceiling function that rounds to the nearest smaller or bigger integer. Feel free to experiment!"
   ]
  },
  {
   "cell_type": "code",
   "execution_count": 50,
   "metadata": {},
   "outputs": [],
   "source": [
    "def ceiling(x):\n",
    "    return (x+1)//1"
   ]
  },
  {
   "cell_type": "code",
   "execution_count": 55,
   "metadata": {},
   "outputs": [
    {
     "data": {
      "image/png": "[encoded data removed]",
      "text/plain": [
       "<Figure size 432x288 with 1 Axes>"
      ]
     },
     "metadata": {
      "needs_background": "light"
     },
     "output_type": "display_data"
    }
   ],
   "source": [
    "my_xs = np.linspace(0, 10, 400)\n",
    "my_ys = ceiling(my_xs)\n",
    "\n",
    "plt.plot(my_xs, my_ys)\n",
    "pass # this stops plt.plot from returning a value to the output"
   ]
  },
  {
   "cell_type": "markdown",
   "metadata": {},
   "source": [
    "### How not to evaluate functions\n",
    "\n",
    "Now I want to mention another way we could have gone about this: in other programming languages, it is common to stuff like this:"
   ]
  },
  {
   "cell_type": "code",
   "execution_count": 56,
   "metadata": {},
   "outputs": [],
   "source": [
    "ys = np.zeros(40)\n",
    "for i in range(40):\n",
    "    ys[i] = f(xs[i])"
   ]
  },
  {
   "cell_type": "code",
   "execution_count": 57,
   "metadata": {},
   "outputs": [
    {
     "data": {
      "text/plain": [
       "array([0.00000000e+00, 6.57462196e-04, 2.62984878e-03, 5.91715976e-03,\n",
       "       1.05193951e-02, 1.64365549e-02, 2.36686391e-02, 3.22156476e-02,\n",
       "       4.20775805e-02, 5.32544379e-02, 6.57462196e-02, 7.95529257e-02,\n",
       "       9.46745562e-02, 1.11111111e-01, 1.28862590e-01, 1.47928994e-01,\n",
       "       1.68310322e-01, 1.90006575e-01, 2.13017751e-01, 2.37343853e-01,\n",
       "       2.62984878e-01, 2.89940828e-01, 3.18211703e-01, 3.47797502e-01,\n",
       "       3.78698225e-01, 4.10913872e-01, 4.44444444e-01, 4.79289941e-01,\n",
       "       5.15450362e-01, 5.52925707e-01, 5.91715976e-01, 6.31821170e-01,\n",
       "       6.73241289e-01, 7.15976331e-01, 7.60026298e-01, 8.05391190e-01,\n",
       "       8.52071006e-01, 9.00065746e-01, 9.49375411e-01, 1.00000000e+00])"
      ]
     },
     "execution_count": 57,
     "metadata": {},
     "output_type": "execute_result"
    }
   ],
   "source": [
    "ys"
   ]
  },
  {
   "cell_type": "markdown",
   "metadata": {},
   "source": [
    "Here we assign `ys` upfront as an array filled with `0`s, then we loop over the xs and individually assign each y-value to the result from `f`. This gives the same result.\n",
    "\n",
    "In a language like C this is the standard way to do things, but when using NumPy arrays you should try to avoid doing this whenever possible. NumPy arrays use what is called \"vectorization\" to apply functions like `**2` to an array, which is _much_ faster than looping over that array in Python.\n",
    "\n",
    "If you're curious about why this is I can suggest some reading, but you don't need to worry about the explanation right now, just remember you can apply functions directly to arrays in many, many cases."
   ]
  },
  {
   "cell_type": "markdown",
   "metadata": {},
   "source": [
    "#### Task:\n",
    "To demonstrate why the loop method is worse than directly operating on arrays, we can use the timeit module to time how long each of these take. \n",
    "\n",
    "If you type `%%timeit` in a cell, everything executed below in that cell will be run repeatedly and timed, and it will show the average time taken and standard deviation. For example:"
   ]
  },
  {
   "cell_type": "code",
   "execution_count": 58,
   "metadata": {},
   "outputs": [
    {
     "name": "stdout",
     "output_type": "stream",
     "text": [
      "312 ns ± 4.86 ns per loop (mean ± std. dev. of 7 runs, 1000000 loops each)\n"
     ]
    }
   ],
   "source": [
    "%%timeit\n",
    "for i in range(10):\n",
    "    pass # do each loop nothing"
   ]
  },
  {
   "cell_type": "code",
   "execution_count": 59,
   "metadata": {},
   "outputs": [
    {
     "name": "stdout",
     "output_type": "stream",
     "text": [
      "3.4 µs ± 59.9 ns per loop (mean ± std. dev. of 7 runs, 100000 loops each)\n"
     ]
    }
   ],
   "source": [
    "%%timeit\n",
    "for i in range(10):\n",
    "    for j in range(10):\n",
    "        pass # still doing nothing"
   ]
  },
  {
   "cell_type": "markdown",
   "metadata": {},
   "source": [
    "Interestingly even though we do nothing in either bit of code above, they still take some time and one even takes 10 times longer than the other!\n",
    "\n",
    "But I'm getting off topic a bit. Now you try using `%%timeit` on `f(xs)` and on the loop method to see how long they take:"
   ]
  },
  {
   "cell_type": "code",
   "execution_count": 60,
   "metadata": {},
   "outputs": [
    {
     "name": "stdout",
     "output_type": "stream",
     "text": [
      "818 ns ± 16.8 ns per loop (mean ± std. dev. of 7 runs, 1000000 loops each)\n"
     ]
    }
   ],
   "source": [
    "%%timeit\n",
    "f(xs)"
   ]
  },
  {
   "cell_type": "code",
   "execution_count": 61,
   "metadata": {},
   "outputs": [
    {
     "name": "stdout",
     "output_type": "stream",
     "text": [
      "19.9 µs ± 512 ns per loop (mean ± std. dev. of 7 runs, 10000 loops each)\n"
     ]
    }
   ],
   "source": [
    "%%timeit\n",
    "for i in range(40):\n",
    "    f(xs[i])"
   ]
  },
  {
   "cell_type": "markdown",
   "metadata": {},
   "source": [
    "### Other common math functions"
   ]
  },
  {
   "cell_type": "markdown",
   "metadata": {},
   "source": [
    "What if you want to use an exponential or trigonometric function? NumPy has those in its lowest level namespace:"
   ]
  },
  {
   "cell_type": "code",
   "execution_count": 62,
   "metadata": {},
   "outputs": [
    {
     "data": {
      "image/png": "[encoded data removed]",
      "text/plain": [
       "<Figure size 432x288 with 1 Axes>"
      ]
     },
     "metadata": {
      "needs_background": "light"
     },
     "output_type": "display_data"
    }
   ],
   "source": [
    "xs = np.linspace(0, 2*np.pi, 60)\n",
    "\n",
    "plt.plot(xs, np.sin(xs))\n",
    "plt.plot(xs, np.cos(xs))\n",
    "pass"
   ]
  },
  {
   "cell_type": "markdown",
   "metadata": {},
   "source": [
    "#### Task:\n",
    "Pick any mathematical function you want from [numpy's docs](https://numpy.org/doc/1.18/reference/routines.math.html) and plot it using the `plt.plot(xs, ys)` snippet."
   ]
  },
  {
   "cell_type": "code",
   "execution_count": 63,
   "metadata": {},
   "outputs": [
    {
     "data": {
      "image/png": "[encoded data removed]",
      "text/plain": [
       "<Figure size 432x288 with 1 Axes>"
      ]
     },
     "metadata": {
      "needs_background": "light"
     },
     "output_type": "display_data"
    }
   ],
   "source": [
    "plt.plot(xs, np.arctan(xs))\n",
    "pass"
   ]
  },
  {
   "cell_type": "markdown",
   "metadata": {},
   "source": [
    "### Taking derivatives of data"
   ]
  },
  {
   "cell_type": "markdown",
   "metadata": {},
   "source": [
    "Let's do something a bit more complicated: let's numerically evaluate a derivative.\n",
    "\n",
    "Remember that a formula for a (symmetric) finite difference derivative is\n",
    "\n",
    "$$\\frac{df}{dx} = \\frac{f(x+\\epsilon) - f(x)}{\\epsilon}.$$\n",
    "\n",
    "(Note this is not a great formula to use if you want good accuracy)\n",
    "\n",
    "Let's write that in NumPy arrays:"
   ]
  },
  {
   "cell_type": "code",
   "execution_count": 64,
   "metadata": {},
   "outputs": [],
   "source": [
    "xs = np.linspace(0, 1, 60)\n",
    "\n",
    "dx = xs[1] - xs[0] # we find the difference between the points to use as our epsilon\n",
    "\n",
    "ys = f(xs)"
   ]
  },
  {
   "cell_type": "markdown",
   "metadata": {},
   "source": [
    "Calculating the $\\Delta y$ term is where it gets trickier:"
   ]
  },
  {
   "cell_type": "code",
   "execution_count": 65,
   "metadata": {},
   "outputs": [],
   "source": [
    "dys = ys[1:] - ys[:-1]"
   ]
  },
  {
   "cell_type": "markdown",
   "metadata": {},
   "source": [
    "What we do is take the `ys` array, excluding the first element, and subtract the array but excluding the last element. This gives us an array of $y_i - y_{i-1}$. Then the derivative estimate is:"
   ]
  },
  {
   "cell_type": "code",
   "execution_count": 66,
   "metadata": {},
   "outputs": [],
   "source": [
    "derivs = dys/dx"
   ]
  },
  {
   "cell_type": "code",
   "execution_count": 67,
   "metadata": {},
   "outputs": [
    {
     "data": {
      "image/png": "[encoded data removed]",
      "text/plain": [
       "<Figure size 432x288 with 1 Axes>"
      ]
     },
     "metadata": {
      "needs_background": "light"
     },
     "output_type": "display_data"
    }
   ],
   "source": [
    "plt.plot(xs[1:], derivs)\n",
    "pass"
   ]
  },
  {
   "cell_type": "markdown",
   "metadata": {},
   "source": [
    "This looks about right! Note that we had to drop the first x since our y-values were 1 shorter. \n",
    "\n",
    "NumPy actually has a builtin function for finite differences called `numpy.gradient` that gives **much** more accurate results, and without shrinking the array the way we did above:"
   ]
  },
  {
   "cell_type": "code",
   "execution_count": 68,
   "metadata": {},
   "outputs": [
    {
     "data": {
      "image/png": "[encoded data removed]",
      "text/plain": [
       "<Figure size 432x288 with 1 Axes>"
      ]
     },
     "metadata": {
      "needs_background": "light"
     },
     "output_type": "display_data"
    }
   ],
   "source": [
    "xs = np.linspace(0, 1, 60)\n",
    "\n",
    "dx = xs[1] - xs[0]\n",
    "\n",
    "ys = f(xs)\n",
    "\n",
    "derivs = np.gradient(ys, dx)\n",
    "\n",
    "plt.plot(xs, derivs)\n",
    "pass"
   ]
  },
  {
   "cell_type": "markdown",
   "metadata": {},
   "source": [
    "#### Task:\n",
    "Try to write some code that integrates our $f(x) = x^2$ function instead of differentiating it.\n",
    "\n",
    "You could do this with a Riemann sum:\n",
    "\n",
    "$$\\sum_i f(x_i) \\Delta x_i,$$\n",
    "\n",
    "or you could try out the Trapezoid rule:\n",
    "\n",
    "$$\\sum_i \\frac{f(x_{i-1}) + f(x_i)}{2} \\Delta x_i.$$\n",
    "\n",
    "A hint is that NumPy arrays have a `.sum` method, that sums up all of the elements in an array into a single number (or sum over a specific axis, check the [documentation](https://numpy.org/doc/stable/reference/generated/numpy.sum.html#numpy.sum) for more info):"
   ]
  },
  {
   "cell_type": "code",
   "execution_count": 69,
   "metadata": {},
   "outputs": [
    {
     "name": "stdout",
     "output_type": "stream",
     "text": [
      "array([0, 1, 2])\n"
     ]
    },
    {
     "data": {
      "text/plain": [
       "3"
      ]
     },
     "execution_count": 69,
     "metadata": {},
     "output_type": "execute_result"
    }
   ],
   "source": [
    "a = np.arange(3)\n",
    "print(repr(a))\n",
    "a.sum()"
   ]
  },
  {
   "cell_type": "markdown",
   "metadata": {},
   "source": [
    "You can use this method (or equivalently call `np.sum` on an array) to help calculate the integral sum.\n",
    "\n",
    "I recommend by starting with just evaluating the integral over the range $[0, 1]$ that we've been working with so far.\n",
    "\n",
    "#### Solution:\n",
    "\n",
    "I actually prefer to code up a version of the trapezoid rule that applies for uniform spacing:\n",
    "$$ \\Delta x\\left(\\frac{f(x_0) + f(x_N)}{2} + \\sum_{i=1}^{N-1} f(x_i) \\right) $$"
   ]
  },
  {
   "cell_type": "code",
   "execution_count": 73,
   "metadata": {},
   "outputs": [],
   "source": [
    "def trapz_uniform(arr, dx):\n",
    "    arr = dx*arr\n",
    "    return 0.5*(arr[0] + 2*arr[1:-1].sum() + arr[-1])"
   ]
  },
  {
   "cell_type": "code",
   "execution_count": 74,
   "metadata": {},
   "outputs": [
    {
     "data": {
      "text/plain": [
       "0.3333812122953174"
      ]
     },
     "execution_count": 74,
     "metadata": {},
     "output_type": "execute_result"
    }
   ],
   "source": [
    "trapz_uniform(ys, dx)"
   ]
  },
  {
   "cell_type": "markdown",
   "metadata": {},
   "source": [
    "The analytic answer is $\\int_0^1 x^2 dx = 1/3 \\; x^3\\; |_0^1 = 1/3$."
   ]
  },
  {
   "cell_type": "code",
   "execution_count": null,
   "metadata": {},
   "outputs": [],
   "source": []
  }
 ],
 "metadata": {
  "kernelspec": {
   "display_name": "Python 3",
   "language": "python",
   "name": "python3"
  },
  "language_info": {
   "codemirror_mode": {
    "name": "ipython",
    "version": 3
   },
   "file_extension": ".py",
   "mimetype": "text/x-python",
   "name": "python",
   "nbconvert_exporter": "python",
   "pygments_lexer": "ipython3",
   "version": "3.7.7"
  }
 },
 "nbformat": 4,
 "nbformat_minor": 4
}
